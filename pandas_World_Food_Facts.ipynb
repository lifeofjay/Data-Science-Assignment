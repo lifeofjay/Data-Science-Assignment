{
  "cells": [
    {
      "cell_type": "markdown",
      "metadata": {
        "id": "OqlR0m0HlUGV"
      },
      "source": [
        "### Step 1. Go to https://www.kaggle.com/openfoodfacts/world-food-facts/data"
      ]
    },
    {
      "cell_type": "markdown",
      "metadata": {
        "id": "TXDVPckNlUGX"
      },
      "source": [
        "###  Step 2. Download the dataset to your computer and unzip it."
      ]
    },
    {
      "cell_type": "code",
      "execution_count": 3,
      "metadata": {
        "collapsed": true,
        "id": "pl2c0gBslUGZ"
      },
      "outputs": [],
      "source": [
        "import pandas as pd"
      ]
    },
    {
      "cell_type": "markdown",
      "metadata": {
        "id": "g_CqxYnelUGc"
      },
      "source": [
        "### Step 3. Use the tsv file and assign it to a dataframe called food"
      ]
    },
    {
      "cell_type": "code",
      "execution_count": 4,
      "metadata": {
        "id": "H7KSVvIalUGc"
      },
      "outputs": [],
      "source": [
        "food = pd.read_csv('/content/cleaned_openfoodfacts.csv', sep='\\t')"
      ]
    },
    {
      "cell_type": "markdown",
      "metadata": {
        "id": "RVwycVgxlUG6"
      },
      "source": [
        "### Step 4. See the first 5 entries"
      ]
    },
    {
      "cell_type": "code",
      "execution_count": 5,
      "metadata": {
        "colab": {
          "base_uri": "https://localhost:8080/",
          "height": 499
        },
        "id": "I19qTtCtlUG6",
        "outputId": "0e7a7e6c-b36b-479f-9222-03f14678201b"
      },
      "outputs": [
        {
          "data": {
            "text/html": [
              "\n",
              "  <div id=\"df-1416967c-78e0-4904-9544-4c1299cd7439\" class=\"colab-df-container\">\n",
              "    <div>\n",
              "<style scoped>\n",
              "    .dataframe tbody tr th:only-of-type {\n",
              "        vertical-align: middle;\n",
              "    }\n",
              "\n",
              "    .dataframe tbody tr th {\n",
              "        vertical-align: top;\n",
              "    }\n",
              "\n",
              "    .dataframe thead th {\n",
              "        text-align: right;\n",
              "    }\n",
              "</style>\n",
              "<table border=\"1\" class=\"dataframe\">\n",
              "  <thead>\n",
              "    <tr style=\"text-align: right;\">\n",
              "      <th></th>\n",
              "      <th>code</th>\n",
              "      <th>states_en</th>\n",
              "      <th>url</th>\n",
              "      <th>created_datetime</th>\n",
              "      <th>last_modified_datetime</th>\n",
              "      <th>creator</th>\n",
              "      <th>pnns_groups_2</th>\n",
              "      <th>countries_en</th>\n",
              "      <th>pnns_groups_1</th>\n",
              "      <th>product_name</th>\n",
              "      <th>...</th>\n",
              "      <th>sugars_100g</th>\n",
              "      <th>salt_100g</th>\n",
              "      <th>sodium_100g</th>\n",
              "      <th>saturated-fat_100g</th>\n",
              "      <th>categories_en</th>\n",
              "      <th>main_category_en</th>\n",
              "      <th>nutriscore_score</th>\n",
              "      <th>nutriscore_grade</th>\n",
              "      <th>fiber_100g</th>\n",
              "      <th>fruits-vegetables-rate_100g</th>\n",
              "    </tr>\n",
              "  </thead>\n",
              "  <tbody>\n",
              "    <tr>\n",
              "      <th>0</th>\n",
              "      <td>3760029248001</td>\n",
              "      <td>To be checked,Complete,Nutrition facts complet...</td>\n",
              "      <td>http://world-en.openfoodfacts.org/product/3760...</td>\n",
              "      <td>2012-01-31 14:43:58</td>\n",
              "      <td>2018-08-30 21:14:54</td>\n",
              "      <td>stephane</td>\n",
              "      <td>sweets</td>\n",
              "      <td>France</td>\n",
              "      <td>sugary snacks</td>\n",
              "      <td>Caramels tendres au beurre salé au sel de Guér...</td>\n",
              "      <td>...</td>\n",
              "      <td>49.3</td>\n",
              "      <td>1.7000</td>\n",
              "      <td>0.68000</td>\n",
              "      <td>7.0</td>\n",
              "      <td>Groceries,Snacks,Sweet snacks,Confectioneries,...</td>\n",
              "      <td>Caramels</td>\n",
              "      <td>28.0</td>\n",
              "      <td>e</td>\n",
              "      <td>1.0</td>\n",
              "      <td>25.0</td>\n",
              "    </tr>\n",
              "    <tr>\n",
              "      <th>1</th>\n",
              "      <td>3029330062806</td>\n",
              "      <td>To be completed,Nutrition facts completed,Ingr...</td>\n",
              "      <td>http://world-en.openfoodfacts.org/product/3029...</td>\n",
              "      <td>2012-02-09 10:34:56</td>\n",
              "      <td>2016-12-23 16:38:19</td>\n",
              "      <td>stephane</td>\n",
              "      <td>appetizers</td>\n",
              "      <td>France</td>\n",
              "      <td>salty snacks</td>\n",
              "      <td>Jacquet Les bouchées créatives à garnir</td>\n",
              "      <td>...</td>\n",
              "      <td>2.0</td>\n",
              "      <td>1.7526</td>\n",
              "      <td>0.70104</td>\n",
              "      <td>1.3</td>\n",
              "      <td>Snacks,Salty snacks,Appetizers,Crackers</td>\n",
              "      <td>Crackers</td>\n",
              "      <td>10.0</td>\n",
              "      <td>c</td>\n",
              "      <td>3.0</td>\n",
              "      <td>25.0</td>\n",
              "    </tr>\n",
              "    <tr>\n",
              "      <th>2</th>\n",
              "      <td>3257980112590</td>\n",
              "      <td>To be completed,Nutrition facts completed,Ingr...</td>\n",
              "      <td>http://world-en.openfoodfacts.org/product/3257...</td>\n",
              "      <td>2012-02-11 14:51:07</td>\n",
              "      <td>2021-02-22 22:39:03</td>\n",
              "      <td>marianne</td>\n",
              "      <td>biscuits and cakes</td>\n",
              "      <td>France</td>\n",
              "      <td>sugary snacks</td>\n",
              "      <td>Boudoirs aux œufs frais</td>\n",
              "      <td>...</td>\n",
              "      <td>51.8</td>\n",
              "      <td>0.0900</td>\n",
              "      <td>0.03600</td>\n",
              "      <td>1.2</td>\n",
              "      <td>Snacks,Sweet snacks,Biscuits and cakes,Biscuit...</td>\n",
              "      <td>Sponge fingers biscuit</td>\n",
              "      <td>14.0</td>\n",
              "      <td>d</td>\n",
              "      <td>1.6</td>\n",
              "      <td>25.0</td>\n",
              "    </tr>\n",
              "    <tr>\n",
              "      <th>3</th>\n",
              "      <td>3017760038409</td>\n",
              "      <td>To be completed,Nutrition facts completed,Ingr...</td>\n",
              "      <td>http://world-en.openfoodfacts.org/product/3017...</td>\n",
              "      <td>2012-02-11 15:07:23</td>\n",
              "      <td>2021-02-02 20:38:52</td>\n",
              "      <td>marianne</td>\n",
              "      <td>biscuits and cakes</td>\n",
              "      <td>Belgium,Canada,France,Switzerland</td>\n",
              "      <td>sugary snacks</td>\n",
              "      <td>Lulu La Barquette Fraise</td>\n",
              "      <td>...</td>\n",
              "      <td>58.0</td>\n",
              "      <td>0.0900</td>\n",
              "      <td>0.03600</td>\n",
              "      <td>0.6</td>\n",
              "      <td>Snacks,Sweet snacks,Biscuits and cakes,Biscuit...</td>\n",
              "      <td>fr:Barquettes à la fraise</td>\n",
              "      <td>13.0</td>\n",
              "      <td>d</td>\n",
              "      <td>1.7</td>\n",
              "      <td>25.0</td>\n",
              "    </tr>\n",
              "    <tr>\n",
              "      <th>4</th>\n",
              "      <td>3160181210524</td>\n",
              "      <td>To be checked,Complete,Nutrition facts complet...</td>\n",
              "      <td>http://world-en.openfoodfacts.org/product/3160...</td>\n",
              "      <td>2012-02-11 18:51:58</td>\n",
              "      <td>2019-08-23 19:57:37</td>\n",
              "      <td>stephane</td>\n",
              "      <td>biscuits and cakes</td>\n",
              "      <td>France</td>\n",
              "      <td>sugary snacks</td>\n",
              "      <td>Cookies tout chocolat Biocoop</td>\n",
              "      <td>...</td>\n",
              "      <td>33.0</td>\n",
              "      <td>0.3810</td>\n",
              "      <td>0.15240</td>\n",
              "      <td>14.0</td>\n",
              "      <td>Snacks,Sweet snacks,Biscuits and cakes,Biscuit...</td>\n",
              "      <td>Chocolate biscuits</td>\n",
              "      <td>19.0</td>\n",
              "      <td>e</td>\n",
              "      <td>5.5</td>\n",
              "      <td>25.0</td>\n",
              "    </tr>\n",
              "  </tbody>\n",
              "</table>\n",
              "<p>5 rows × 24 columns</p>\n",
              "</div>\n",
              "    <div class=\"colab-df-buttons\">\n",
              "\n",
              "  <div class=\"colab-df-container\">\n",
              "    <button class=\"colab-df-convert\" onclick=\"convertToInteractive('df-1416967c-78e0-4904-9544-4c1299cd7439')\"\n",
              "            title=\"Convert this dataframe to an interactive table.\"\n",
              "            style=\"display:none;\">\n",
              "\n",
              "  <svg xmlns=\"http://www.w3.org/2000/svg\" height=\"24px\" viewBox=\"0 -960 960 960\">\n",
              "    <path d=\"M120-120v-720h720v720H120Zm60-500h600v-160H180v160Zm220 220h160v-160H400v160Zm0 220h160v-160H400v160ZM180-400h160v-160H180v160Zm440 0h160v-160H620v160ZM180-180h160v-160H180v160Zm440 0h160v-160H620v160Z\"/>\n",
              "  </svg>\n",
              "    </button>\n",
              "\n",
              "  <style>\n",
              "    .colab-df-container {\n",
              "      display:flex;\n",
              "      gap: 12px;\n",
              "    }\n",
              "\n",
              "    .colab-df-convert {\n",
              "      background-color: #E8F0FE;\n",
              "      border: none;\n",
              "      border-radius: 50%;\n",
              "      cursor: pointer;\n",
              "      display: none;\n",
              "      fill: #1967D2;\n",
              "      height: 32px;\n",
              "      padding: 0 0 0 0;\n",
              "      width: 32px;\n",
              "    }\n",
              "\n",
              "    .colab-df-convert:hover {\n",
              "      background-color: #E2EBFA;\n",
              "      box-shadow: 0px 1px 2px rgba(60, 64, 67, 0.3), 0px 1px 3px 1px rgba(60, 64, 67, 0.15);\n",
              "      fill: #174EA6;\n",
              "    }\n",
              "\n",
              "    .colab-df-buttons div {\n",
              "      margin-bottom: 4px;\n",
              "    }\n",
              "\n",
              "    [theme=dark] .colab-df-convert {\n",
              "      background-color: #3B4455;\n",
              "      fill: #D2E3FC;\n",
              "    }\n",
              "\n",
              "    [theme=dark] .colab-df-convert:hover {\n",
              "      background-color: #434B5C;\n",
              "      box-shadow: 0px 1px 3px 1px rgba(0, 0, 0, 0.15);\n",
              "      filter: drop-shadow(0px 1px 2px rgba(0, 0, 0, 0.3));\n",
              "      fill: #FFFFFF;\n",
              "    }\n",
              "  </style>\n",
              "\n",
              "    <script>\n",
              "      const buttonEl =\n",
              "        document.querySelector('#df-1416967c-78e0-4904-9544-4c1299cd7439 button.colab-df-convert');\n",
              "      buttonEl.style.display =\n",
              "        google.colab.kernel.accessAllowed ? 'block' : 'none';\n",
              "\n",
              "      async function convertToInteractive(key) {\n",
              "        const element = document.querySelector('#df-1416967c-78e0-4904-9544-4c1299cd7439');\n",
              "        const dataTable =\n",
              "          await google.colab.kernel.invokeFunction('convertToInteractive',\n",
              "                                                    [key], {});\n",
              "        if (!dataTable) return;\n",
              "\n",
              "        const docLinkHtml = 'Like what you see? Visit the ' +\n",
              "          '<a target=\"_blank\" href=https://colab.research.google.com/notebooks/data_table.ipynb>data table notebook</a>'\n",
              "          + ' to learn more about interactive tables.';\n",
              "        element.innerHTML = '';\n",
              "        dataTable['output_type'] = 'display_data';\n",
              "        await google.colab.output.renderOutput(dataTable, element);\n",
              "        const docLink = document.createElement('div');\n",
              "        docLink.innerHTML = docLinkHtml;\n",
              "        element.appendChild(docLink);\n",
              "      }\n",
              "    </script>\n",
              "  </div>\n",
              "\n",
              "\n",
              "<div id=\"df-ef10902b-d083-472a-b9c2-3726922b80b4\">\n",
              "  <button class=\"colab-df-quickchart\" onclick=\"quickchart('df-ef10902b-d083-472a-b9c2-3726922b80b4')\"\n",
              "            title=\"Suggest charts\"\n",
              "            style=\"display:none;\">\n",
              "\n",
              "<svg xmlns=\"http://www.w3.org/2000/svg\" height=\"24px\"viewBox=\"0 0 24 24\"\n",
              "     width=\"24px\">\n",
              "    <g>\n",
              "        <path d=\"M19 3H5c-1.1 0-2 .9-2 2v14c0 1.1.9 2 2 2h14c1.1 0 2-.9 2-2V5c0-1.1-.9-2-2-2zM9 17H7v-7h2v7zm4 0h-2V7h2v10zm4 0h-2v-4h2v4z\"/>\n",
              "    </g>\n",
              "</svg>\n",
              "  </button>\n",
              "\n",
              "<style>\n",
              "  .colab-df-quickchart {\n",
              "      --bg-color: #E8F0FE;\n",
              "      --fill-color: #1967D2;\n",
              "      --hover-bg-color: #E2EBFA;\n",
              "      --hover-fill-color: #174EA6;\n",
              "      --disabled-fill-color: #AAA;\n",
              "      --disabled-bg-color: #DDD;\n",
              "  }\n",
              "\n",
              "  [theme=dark] .colab-df-quickchart {\n",
              "      --bg-color: #3B4455;\n",
              "      --fill-color: #D2E3FC;\n",
              "      --hover-bg-color: #434B5C;\n",
              "      --hover-fill-color: #FFFFFF;\n",
              "      --disabled-bg-color: #3B4455;\n",
              "      --disabled-fill-color: #666;\n",
              "  }\n",
              "\n",
              "  .colab-df-quickchart {\n",
              "    background-color: var(--bg-color);\n",
              "    border: none;\n",
              "    border-radius: 50%;\n",
              "    cursor: pointer;\n",
              "    display: none;\n",
              "    fill: var(--fill-color);\n",
              "    height: 32px;\n",
              "    padding: 0;\n",
              "    width: 32px;\n",
              "  }\n",
              "\n",
              "  .colab-df-quickchart:hover {\n",
              "    background-color: var(--hover-bg-color);\n",
              "    box-shadow: 0 1px 2px rgba(60, 64, 67, 0.3), 0 1px 3px 1px rgba(60, 64, 67, 0.15);\n",
              "    fill: var(--button-hover-fill-color);\n",
              "  }\n",
              "\n",
              "  .colab-df-quickchart-complete:disabled,\n",
              "  .colab-df-quickchart-complete:disabled:hover {\n",
              "    background-color: var(--disabled-bg-color);\n",
              "    fill: var(--disabled-fill-color);\n",
              "    box-shadow: none;\n",
              "  }\n",
              "\n",
              "  .colab-df-spinner {\n",
              "    border: 2px solid var(--fill-color);\n",
              "    border-color: transparent;\n",
              "    border-bottom-color: var(--fill-color);\n",
              "    animation:\n",
              "      spin 1s steps(1) infinite;\n",
              "  }\n",
              "\n",
              "  @keyframes spin {\n",
              "    0% {\n",
              "      border-color: transparent;\n",
              "      border-bottom-color: var(--fill-color);\n",
              "      border-left-color: var(--fill-color);\n",
              "    }\n",
              "    20% {\n",
              "      border-color: transparent;\n",
              "      border-left-color: var(--fill-color);\n",
              "      border-top-color: var(--fill-color);\n",
              "    }\n",
              "    30% {\n",
              "      border-color: transparent;\n",
              "      border-left-color: var(--fill-color);\n",
              "      border-top-color: var(--fill-color);\n",
              "      border-right-color: var(--fill-color);\n",
              "    }\n",
              "    40% {\n",
              "      border-color: transparent;\n",
              "      border-right-color: var(--fill-color);\n",
              "      border-top-color: var(--fill-color);\n",
              "    }\n",
              "    60% {\n",
              "      border-color: transparent;\n",
              "      border-right-color: var(--fill-color);\n",
              "    }\n",
              "    80% {\n",
              "      border-color: transparent;\n",
              "      border-right-color: var(--fill-color);\n",
              "      border-bottom-color: var(--fill-color);\n",
              "    }\n",
              "    90% {\n",
              "      border-color: transparent;\n",
              "      border-bottom-color: var(--fill-color);\n",
              "    }\n",
              "  }\n",
              "</style>\n",
              "\n",
              "  <script>\n",
              "    async function quickchart(key) {\n",
              "      const quickchartButtonEl =\n",
              "        document.querySelector('#' + key + ' button');\n",
              "      quickchartButtonEl.disabled = true;  // To prevent multiple clicks.\n",
              "      quickchartButtonEl.classList.add('colab-df-spinner');\n",
              "      try {\n",
              "        const charts = await google.colab.kernel.invokeFunction(\n",
              "            'suggestCharts', [key], {});\n",
              "      } catch (error) {\n",
              "        console.error('Error during call to suggestCharts:', error);\n",
              "      }\n",
              "      quickchartButtonEl.classList.remove('colab-df-spinner');\n",
              "      quickchartButtonEl.classList.add('colab-df-quickchart-complete');\n",
              "    }\n",
              "    (() => {\n",
              "      let quickchartButtonEl =\n",
              "        document.querySelector('#df-ef10902b-d083-472a-b9c2-3726922b80b4 button');\n",
              "      quickchartButtonEl.style.display =\n",
              "        google.colab.kernel.accessAllowed ? 'block' : 'none';\n",
              "    })();\n",
              "  </script>\n",
              "</div>\n",
              "\n",
              "    </div>\n",
              "  </div>\n"
            ],
            "text/plain": [
              "            code                                          states_en  \\\n",
              "0  3760029248001  To be checked,Complete,Nutrition facts complet...   \n",
              "1  3029330062806  To be completed,Nutrition facts completed,Ingr...   \n",
              "2  3257980112590  To be completed,Nutrition facts completed,Ingr...   \n",
              "3  3017760038409  To be completed,Nutrition facts completed,Ingr...   \n",
              "4  3160181210524  To be checked,Complete,Nutrition facts complet...   \n",
              "\n",
              "                                                 url     created_datetime  \\\n",
              "0  http://world-en.openfoodfacts.org/product/3760...  2012-01-31 14:43:58   \n",
              "1  http://world-en.openfoodfacts.org/product/3029...  2012-02-09 10:34:56   \n",
              "2  http://world-en.openfoodfacts.org/product/3257...  2012-02-11 14:51:07   \n",
              "3  http://world-en.openfoodfacts.org/product/3017...  2012-02-11 15:07:23   \n",
              "4  http://world-en.openfoodfacts.org/product/3160...  2012-02-11 18:51:58   \n",
              "\n",
              "  last_modified_datetime   creator       pnns_groups_2  \\\n",
              "0    2018-08-30 21:14:54  stephane              sweets   \n",
              "1    2016-12-23 16:38:19  stephane          appetizers   \n",
              "2    2021-02-22 22:39:03  marianne  biscuits and cakes   \n",
              "3    2021-02-02 20:38:52  marianne  biscuits and cakes   \n",
              "4    2019-08-23 19:57:37  stephane  biscuits and cakes   \n",
              "\n",
              "                        countries_en  pnns_groups_1  \\\n",
              "0                             France  sugary snacks   \n",
              "1                             France   salty snacks   \n",
              "2                             France  sugary snacks   \n",
              "3  Belgium,Canada,France,Switzerland  sugary snacks   \n",
              "4                             France  sugary snacks   \n",
              "\n",
              "                                        product_name  ...  sugars_100g  \\\n",
              "0  Caramels tendres au beurre salé au sel de Guér...  ...         49.3   \n",
              "1            Jacquet Les bouchées créatives à garnir  ...          2.0   \n",
              "2                            Boudoirs aux œufs frais  ...         51.8   \n",
              "3                           Lulu La Barquette Fraise  ...         58.0   \n",
              "4                      Cookies tout chocolat Biocoop  ...         33.0   \n",
              "\n",
              "   salt_100g  sodium_100g  saturated-fat_100g  \\\n",
              "0     1.7000      0.68000                 7.0   \n",
              "1     1.7526      0.70104                 1.3   \n",
              "2     0.0900      0.03600                 1.2   \n",
              "3     0.0900      0.03600                 0.6   \n",
              "4     0.3810      0.15240                14.0   \n",
              "\n",
              "                                       categories_en  \\\n",
              "0  Groceries,Snacks,Sweet snacks,Confectioneries,...   \n",
              "1            Snacks,Salty snacks,Appetizers,Crackers   \n",
              "2  Snacks,Sweet snacks,Biscuits and cakes,Biscuit...   \n",
              "3  Snacks,Sweet snacks,Biscuits and cakes,Biscuit...   \n",
              "4  Snacks,Sweet snacks,Biscuits and cakes,Biscuit...   \n",
              "\n",
              "            main_category_en  nutriscore_score  nutriscore_grade fiber_100g  \\\n",
              "0                   Caramels              28.0                 e        1.0   \n",
              "1                   Crackers              10.0                 c        3.0   \n",
              "2     Sponge fingers biscuit              14.0                 d        1.6   \n",
              "3  fr:Barquettes à la fraise              13.0                 d        1.7   \n",
              "4         Chocolate biscuits              19.0                 e        5.5   \n",
              "\n",
              "  fruits-vegetables-rate_100g  \n",
              "0                        25.0  \n",
              "1                        25.0  \n",
              "2                        25.0  \n",
              "3                        25.0  \n",
              "4                        25.0  \n",
              "\n",
              "[5 rows x 24 columns]"
            ]
          },
          "execution_count": 5,
          "metadata": {},
          "output_type": "execute_result"
        }
      ],
      "source": [
        "food.head()"
      ]
    },
    {
      "cell_type": "markdown",
      "metadata": {
        "id": "ilX5pMU9lUG8"
      },
      "source": [
        "### Step 5. What is the number of observations in the dataset?"
      ]
    },
    {
      "cell_type": "code",
      "execution_count": 6,
      "metadata": {
        "colab": {
          "base_uri": "https://localhost:8080/"
        },
        "id": "b4QP3m9_lUG9",
        "outputId": "2803c33f-6c72-49b1-e7a1-8a9fea82429d"
      },
      "outputs": [
        {
          "data": {
            "text/plain": [
              "17724"
            ]
          },
          "execution_count": 6,
          "metadata": {},
          "output_type": "execute_result"
        }
      ],
      "source": [
        "food.shape[0]"
      ]
    },
    {
      "cell_type": "markdown",
      "metadata": {
        "id": "8pClD7a7lUHB"
      },
      "source": [
        "### Step 6. What is the number of columns in the dataset?"
      ]
    },
    {
      "cell_type": "code",
      "execution_count": 7,
      "metadata": {
        "colab": {
          "base_uri": "https://localhost:8080/"
        },
        "id": "Q68k1xiilUHC",
        "outputId": "76ded950-20ba-43b6-ecc0-19fd5bfce305"
      },
      "outputs": [
        {
          "data": {
            "text/plain": [
              "24"
            ]
          },
          "execution_count": 7,
          "metadata": {},
          "output_type": "execute_result"
        }
      ],
      "source": [
        "food.shape[1]"
      ]
    },
    {
      "cell_type": "markdown",
      "metadata": {
        "id": "rNA-vMmFlUHE"
      },
      "source": [
        "### Step 7. Print the name of all the columns."
      ]
    },
    {
      "cell_type": "code",
      "execution_count": 8,
      "metadata": {
        "colab": {
          "base_uri": "https://localhost:8080/"
        },
        "id": "FQcP-DDelUHE",
        "outputId": "aebb528c-4007-4300-ab8c-d2dd0fa353a0"
      },
      "outputs": [
        {
          "data": {
            "text/plain": [
              "Index(['code', 'states_en', 'url', 'created_datetime',\n",
              "       'last_modified_datetime', 'creator', 'pnns_groups_2', 'countries_en',\n",
              "       'pnns_groups_1', 'product_name', 'energy_100g', 'proteins_100g',\n",
              "       'fat_100g', 'carbohydrates_100g', 'sugars_100g', 'salt_100g',\n",
              "       'sodium_100g', 'saturated-fat_100g', 'categories_en',\n",
              "       'main_category_en', 'nutriscore_score', 'nutriscore_grade',\n",
              "       'fiber_100g', 'fruits-vegetables-rate_100g'],\n",
              "      dtype='object')"
            ]
          },
          "execution_count": 8,
          "metadata": {},
          "output_type": "execute_result"
        }
      ],
      "source": [
        "food.columns"
      ]
    },
    {
      "cell_type": "markdown",
      "metadata": {
        "id": "KEgUuO22lUHG"
      },
      "source": [
        "### Step 8. What is the name of 10th column?\n",
        "\n"
      ]
    },
    {
      "cell_type": "code",
      "execution_count": 10,
      "metadata": {
        "colab": {
          "base_uri": "https://localhost:8080/",
          "height": 35
        },
        "id": "LVhqdXSjlUHG",
        "outputId": "92a006fa-ddc5-4fdd-f5b4-11ccd06ffafd"
      },
      "outputs": [
        {
          "data": {
            "application/vnd.google.colaboratory.intrinsic+json": {
              "type": "string"
            },
            "text/plain": [
              "'energy_100g'"
            ]
          },
          "execution_count": 10,
          "metadata": {},
          "output_type": "execute_result"
        }
      ],
      "source": [
        "food.columns[10]"
      ]
    },
    {
      "cell_type": "markdown",
      "metadata": {
        "id": "VWRrb3fAlUHH"
      },
      "source": [
        "### Step 9. What is the type of the observations of the 10th column?"
      ]
    },
    {
      "cell_type": "code",
      "execution_count": 11,
      "metadata": {
        "colab": {
          "base_uri": "https://localhost:8080/"
        },
        "id": "rncdzeMWlUHI",
        "outputId": "1773c251-6c42-45fe-dbd5-af761ae0ca1f"
      },
      "outputs": [
        {
          "data": {
            "text/plain": [
              "dtype('float64')"
            ]
          },
          "execution_count": 11,
          "metadata": {},
          "output_type": "execute_result"
        }
      ],
      "source": [
        "food.dtypes['energy_100g']"
      ]
    },
    {
      "cell_type": "markdown",
      "metadata": {
        "id": "iATIiIOZlUHJ"
      },
      "source": [
        "### Step 10. How is the dataset indexed?"
      ]
    },
    {
      "cell_type": "code",
      "execution_count": 12,
      "metadata": {
        "colab": {
          "base_uri": "https://localhost:8080/"
        },
        "id": "0pXZiJgilUHK",
        "outputId": "64478e7e-0fda-461e-885e-0a1c7e394cb3"
      },
      "outputs": [
        {
          "data": {
            "text/plain": [
              "RangeIndex(start=0, stop=17724, step=1)"
            ]
          },
          "execution_count": 12,
          "metadata": {},
          "output_type": "execute_result"
        }
      ],
      "source": [
        "food.index"
      ]
    },
    {
      "cell_type": "markdown",
      "metadata": {
        "id": "lrsAoBxulUHL"
      },
      "source": [
        "### Step 11. What is the product name of the 19th observation?"
      ]
    },
    {
      "cell_type": "code",
      "execution_count": 13,
      "metadata": {
        "colab": {
          "base_uri": "https://localhost:8080/",
          "height": 35
        },
        "id": "NOXXNCR1lUHM",
        "outputId": "8fac31a3-b52a-472a-eb05-a5db54c4a918"
      },
      "outputs": [
        {
          "data": {
            "application/vnd.google.colaboratory.intrinsic+json": {
              "type": "string"
            },
            "text/plain": [
              "'France'"
            ]
          },
          "execution_count": 13,
          "metadata": {},
          "output_type": "execute_result"
        }
      ],
      "source": [
        "food.values[18][7]"
      ]
    }
  ],
  "metadata": {
    "anaconda-cloud": {},
    "colab": {
      "include_colab_link": true,
      "provenance": []
    },
    "kernelspec": {
      "display_name": "Python 3",
      "language": "python",
      "name": "python3"
    },
    "language_info": {
      "codemirror_mode": {
        "name": "ipython",
        "version": 3
      },
      "file_extension": ".py",
      "mimetype": "text/x-python",
      "name": "python",
      "nbconvert_exporter": "python",
      "pygments_lexer": "ipython3",
      "version": "3.7.3"
    },
    "toc": {
      "base_numbering": 1,
      "nav_menu": {},
      "number_sections": true,
      "sideBar": true,
      "skip_h1_title": false,
      "title_cell": "Table of Contents",
      "title_sidebar": "Contents",
      "toc_cell": false,
      "toc_position": {},
      "toc_section_display": true,
      "toc_window_display": false
    }
  },
  "nbformat": 4,
  "nbformat_minor": 0
}
